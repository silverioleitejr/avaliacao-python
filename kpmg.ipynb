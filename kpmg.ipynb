{
  "nbformat": 4,
  "nbformat_minor": 0,
  "metadata": {
    "colab": {
      "name": "kpmg.ipynb",
      "provenance": [],
      "collapsed_sections": [],
      "authorship_tag": "ABX9TyMy//ETtVs+8c8jcu+x7sEA",
      "include_colab_link": true
    },
    "kernelspec": {
      "name": "python3",
      "display_name": "Python 3"
    }
  },
  "cells": [
    {
      "cell_type": "markdown",
      "metadata": {
        "id": "view-in-github",
        "colab_type": "text"
      },
      "source": [
        "<a href=\"https://colab.research.google.com/github/silverioleitejr/avaliacao-python/blob/main/kpmg.ipynb\" target=\"_parent\"><img src=\"https://colab.research.google.com/assets/colab-badge.svg\" alt=\"Open In Colab\"/></a>"
      ]
    },
    {
      "cell_type": "code",
      "metadata": {
        "colab": {
          "base_uri": "https://localhost:8080/"
        },
        "id": "0zxQz2LNYD61",
        "outputId": "9179db46-6f48-4665-93bf-5667d5f745f8"
      },
      "source": [
        "! pip install pandas pyspark fastapi nest-asyncio pyngrok uvicorn \r\n"
      ],
      "execution_count": 4,
      "outputs": [
        {
          "output_type": "stream",
          "text": [
            "Requirement already satisfied: pandas in /usr/local/lib/python3.7/dist-packages (1.1.5)\n",
            "Collecting pyspark\n",
            "\u001b[?25l  Downloading https://files.pythonhosted.org/packages/45/b0/9d6860891ab14a39d4bddf80ba26ce51c2f9dc4805e5c6978ac0472c120a/pyspark-3.1.1.tar.gz (212.3MB)\n",
            "\u001b[K     |████████████████████████████████| 212.3MB 72kB/s \n",
            "\u001b[?25hCollecting fastapi\n",
            "\u001b[?25l  Downloading https://files.pythonhosted.org/packages/9f/33/1b643f650688ad368983bbaf3b0658438038ea84d775dd37393d826c3833/fastapi-0.63.0-py3-none-any.whl (50kB)\n",
            "\u001b[K     |████████████████████████████████| 51kB 6.6MB/s \n",
            "\u001b[?25hRequirement already satisfied: nest-asyncio in /usr/local/lib/python3.7/dist-packages (1.5.1)\n",
            "Collecting pyngrok\n",
            "\u001b[?25l  Downloading https://files.pythonhosted.org/packages/6f/ba/562dc75ca358bdecd8bfa4cdfbd27f750e7d6e46699d3a51bcaa7feb7f3e/pyngrok-5.0.3.tar.gz (743kB)\n",
            "\u001b[K     |████████████████████████████████| 747kB 43.4MB/s \n",
            "\u001b[?25hCollecting uvicorn\n",
            "\u001b[?25l  Downloading https://files.pythonhosted.org/packages/c8/de/953f0289508b1b92debdf0a6822d9b88ffb0c6ad471d709cf639a2c8a176/uvicorn-0.13.4-py3-none-any.whl (46kB)\n",
            "\u001b[K     |████████████████████████████████| 51kB 4.7MB/s \n",
            "\u001b[?25hRequirement already satisfied: python-dateutil>=2.7.3 in /usr/local/lib/python3.7/dist-packages (from pandas) (2.8.1)\n",
            "Requirement already satisfied: pytz>=2017.2 in /usr/local/lib/python3.7/dist-packages (from pandas) (2018.9)\n",
            "Requirement already satisfied: numpy>=1.15.4 in /usr/local/lib/python3.7/dist-packages (from pandas) (1.19.5)\n",
            "Collecting py4j==0.10.9\n",
            "\u001b[?25l  Downloading https://files.pythonhosted.org/packages/9e/b6/6a4fb90cd235dc8e265a6a2067f2a2c99f0d91787f06aca4bcf7c23f3f80/py4j-0.10.9-py2.py3-none-any.whl (198kB)\n",
            "\u001b[K     |████████████████████████████████| 204kB 47.4MB/s \n",
            "\u001b[?25hCollecting starlette==0.13.6\n",
            "\u001b[?25l  Downloading https://files.pythonhosted.org/packages/c5/a4/c9e228d7d47044ce4c83ba002f28ff479e542455f0499198a3f77c94f564/starlette-0.13.6-py3-none-any.whl (59kB)\n",
            "\u001b[K     |████████████████████████████████| 61kB 5.5MB/s \n",
            "\u001b[?25hCollecting pydantic<2.0.0,>=1.0.0\n",
            "\u001b[?25l  Downloading https://files.pythonhosted.org/packages/2b/a3/0ffdb6c63f45f10d19b8e8b32670b22ed089cafb29732f6bf8ce518821fb/pydantic-1.8.1-cp37-cp37m-manylinux2014_x86_64.whl (10.1MB)\n",
            "\u001b[K     |████████████████████████████████| 10.1MB 39.6MB/s \n",
            "\u001b[?25hRequirement already satisfied: PyYAML in /usr/local/lib/python3.7/dist-packages (from pyngrok) (3.13)\n",
            "Requirement already satisfied: typing-extensions; python_version < \"3.8\" in /usr/local/lib/python3.7/dist-packages (from uvicorn) (3.7.4.3)\n",
            "Requirement already satisfied: click==7.* in /usr/local/lib/python3.7/dist-packages (from uvicorn) (7.1.2)\n",
            "Collecting h11>=0.8\n",
            "\u001b[?25l  Downloading https://files.pythonhosted.org/packages/60/0f/7a0eeea938eaf61074f29fed9717f2010e8d0e0905d36b38d3275a1e4622/h11-0.12.0-py3-none-any.whl (54kB)\n",
            "\u001b[K     |████████████████████████████████| 61kB 7.4MB/s \n",
            "\u001b[?25hRequirement already satisfied: six>=1.5 in /usr/local/lib/python3.7/dist-packages (from python-dateutil>=2.7.3->pandas) (1.15.0)\n",
            "Building wheels for collected packages: pyspark, pyngrok\n",
            "  Building wheel for pyspark (setup.py) ... \u001b[?25l\u001b[?25hdone\n",
            "  Created wheel for pyspark: filename=pyspark-3.1.1-py2.py3-none-any.whl size=212767604 sha256=2634833221c8fd333b55d3c349bfa13f8c1a39a7fd6ddbc4ccbd31fcb89c8e06\n",
            "  Stored in directory: /root/.cache/pip/wheels/0b/90/c0/01de724414ef122bd05f056541fb6a0ecf47c7ca655f8b3c0f\n",
            "  Building wheel for pyngrok (setup.py) ... \u001b[?25l\u001b[?25hdone\n",
            "  Created wheel for pyngrok: filename=pyngrok-5.0.3-cp37-none-any.whl size=18979 sha256=8993668e95b1142cbbde301ea6c1c15cfb3a19e11c1d4d646d5a35dd41d432fa\n",
            "  Stored in directory: /root/.cache/pip/wheels/f0/77/01/d23761888c52099d1817121dc1f28afbc1c7cbf3caac93b1ff\n",
            "Successfully built pyspark pyngrok\n",
            "Installing collected packages: py4j, pyspark, starlette, pydantic, fastapi, pyngrok, h11, uvicorn\n",
            "Successfully installed fastapi-0.63.0 h11-0.12.0 py4j-0.10.9 pydantic-1.8.1 pyngrok-5.0.3 pyspark-3.1.1 starlette-0.13.6 uvicorn-0.13.4\n"
          ],
          "name": "stdout"
        }
      ]
    },
    {
      "cell_type": "code",
      "metadata": {
        "id": "qmqS-wBKXQUs"
      },
      "source": [
        "\r\n",
        "################################################################\r\n",
        "# Projeto de Avaliação - Python - KPMG\r\n",
        "#\r\n",
        "# Analista responsavel: Silverio Leije Jr\r\n",
        "# Data: 06/03/2021\r\n",
        "# Consultoria: Pasqualini\r\n",
        "################################################################\r\n",
        "# I.\t  rota que retornará o valor médio de todos os carros baseados no fabricante (coluna car_make agrupada pela média dos valores da coluna car_value);\r\n",
        "# II.\t  rota que retornará o valor médio de um fabricante de carro passado como parâmetro no request (Após o cálculo de I, pode-se filtrar apenas o valor requerido);\r\n",
        "# III.\trota que que retornará o valor médio de todos os carros baseados nas cidades correspondentes (coluna city agrupada pela média dos valores da coluna car_value);\r\n",
        "# IV.\t  rota que retornará o valor médio dos carros de uma cidade passada como parâmetro no request (Após o cálculo de III, pode-se filtrar apenas o valor requerido);\r\n",
        "#################################################################\r\n",
        "\r\n",
        "\r\n",
        "#definir variais globais \r\n",
        "import pandas as pd\r\n",
        "pd.options.display.float_format = '${:,.2f}'.format\r\n",
        "path = \"https://raw.githubusercontent.com/silverioleitejr/avaliacao-python/main/data/dataset.csv\"\r\n",
        "vendas_df = pd.read_csv(path)\r\n",
        "\r\n",
        "#Bibliotecas para API\r\n",
        "from fastapi import FastAPI \r\n",
        "from pydantic import BaseModel\r\n",
        "import pyspark\r\n",
        "from pyspark.sql import SparkSession\r\n",
        "import pandas as pd\r\n",
        "from pyspark.sql.functions import *\r\n",
        "\r\n",
        "app = FastAPI()\r\n",
        "\r\n",
        "#verificar se um valor é nulo\r\n",
        "def isNaN(num):\r\n",
        "    return num != num\r\n",
        "\r\n",
        "\r\n",
        "# gerar dataframe agrupamento de valores por cidades \r\n",
        "def agruparMediaCidade():\r\n",
        "  spark = SparkSession.builder.getOrCreate()\r\n",
        "\r\n",
        "  # Ler o dataframe de vendas \r\n",
        "  spark_df = spark.createDataFrame(vendas_df)\r\n",
        "\r\n",
        "  # incluir o spark df no cataloga Spark\r\n",
        "  spark_df.createOrReplaceTempView('venda')\r\n",
        "  agrupar_cidade_df = spark_df.groupBy(\"city\").mean(\"car_value\")  \r\n",
        "  #agrupar_cidade_df = agrupar_cidade_df.select(col(\"avg(car_value)\").alias(\"Valor Medio\"))  \r\n",
        "\r\n",
        "  return agrupar_cidade_df\r\n",
        "\r\n",
        "\r\n",
        "#rota raiz\r\n",
        "@app.get('/')\r\n",
        "def raiz():\r\n",
        "      return {\"Mensagem\" : \"API de avaliação - codigo fonte escrito em python\"}\r\n",
        "\r\n",
        "### uvicorn main:app --reload\r\n",
        "### http://127.0.0.1:8000/\r\n",
        "### http://127.0.0.1:8000/docs\r\n",
        "\r\n",
        "# rota para retornar media por fabricante\r\n",
        "# item I da avaliação\r\n",
        "# http://127.0.0.1:8000/valor-medio-todos-fabricante\r\n",
        "@app.get('/valor-medio-todos-fabricante')\r\n",
        "def media_todos_fabricante():\r\n",
        "  grouped_df = vendas_df.groupby(['car_make'])\r\n",
        "  mean_df = grouped_df.mean()\r\n",
        "  mean_df.drop(['id'], inplace=True, axis=1)\r\n",
        "  mean_df.drop(['car_year'], inplace=True, axis=1)\r\n",
        "\r\n",
        "  return mean_df\r\n",
        "  \r\n",
        "# rota para retornar media para fabricante informado no parametro\r\n",
        "# item II da avaliação\r\n",
        "# http://127.0.0.1:8000/valor-medio-fabricante/A\r\n",
        "@app.get('/valor-medio-fabricante/{fabricante}')\r\n",
        "def media_fabricante(fabricante:str):\r\n",
        "  agrupamento_df = agruparMediaMarca()\r\n",
        "  filtro_query = 'car_make == ' '\"' + fabricante + '\"'\r\n",
        "  filtro_df = agrupamento_df.query( filtro_query )\r\n",
        "  media = filtro_df['car_value']\r\n",
        "  return { \"car_make\" : media}\r\n",
        "\r\n",
        "# rota para retornar media por cidade - city\r\n",
        "# item III da avaliação\r\n",
        "# http://127.0.0.1:8000/valor-medio-cidade\r\n",
        "@app.get('/valor-medio-todas-cidade')\r\n",
        "def media_todas_cidades():\r\n",
        "  mediaCidades = agruparMediaCidade()\r\n",
        "  return_df = mediaCidades.toPandas()\r\n",
        "  return_df.rename(columns = {'avg(car_value)': 'Valor Médio'}, inplace = True)\r\n",
        "  print(return_df)\r\n",
        "  return return_df\r\n",
        "\r\n",
        "\r\n",
        "\r\n",
        "\r\n",
        "\r\n",
        "\r\n"
      ],
      "execution_count": 136,
      "outputs": []
    },
    {
      "cell_type": "markdown",
      "metadata": {
        "id": "1XMrxggUMqdx"
      },
      "source": [
        "# Testar funcao spark para agrupar cidade"
      ]
    },
    {
      "cell_type": "code",
      "metadata": {
        "colab": {
          "base_uri": "https://localhost:8080/",
          "height": 470
        },
        "id": "i3cf7StOMvUF",
        "outputId": "c68d20d2-9d31-4f2b-ca98-d323cf5d7011"
      },
      "source": [
        "x = agruparMediaCidade()\r\n",
        "x.show()\r\n",
        "\r\n",
        "media_todas_cidades()"
      ],
      "execution_count": 129,
      "outputs": [
        {
          "output_type": "stream",
          "text": [
            "+----+------------------+\n",
            "|city|    avg(car_value)|\n",
            "+----+------------------+\n",
            "|C_04|47865.873239436616|\n",
            "|C_07| 48582.93661971831|\n",
            "|C_05| 48332.38345864662|\n",
            "|C_01| 47869.25342465754|\n",
            "|C_03| 47706.17605633803|\n",
            "|C_06|47592.420118343194|\n",
            "|C_02|  46464.6746031746|\n",
            "+----+------------------+\n",
            "\n"
          ],
          "name": "stdout"
        },
        {
          "output_type": "execute_result",
          "data": {
            "text/html": [
              "<div>\n",
              "<style scoped>\n",
              "    .dataframe tbody tr th:only-of-type {\n",
              "        vertical-align: middle;\n",
              "    }\n",
              "\n",
              "    .dataframe tbody tr th {\n",
              "        vertical-align: top;\n",
              "    }\n",
              "\n",
              "    .dataframe thead th {\n",
              "        text-align: right;\n",
              "    }\n",
              "</style>\n",
              "<table border=\"1\" class=\"dataframe\">\n",
              "  <thead>\n",
              "    <tr style=\"text-align: right;\">\n",
              "      <th></th>\n",
              "      <th>city</th>\n",
              "      <th>avg(car_value)</th>\n",
              "    </tr>\n",
              "  </thead>\n",
              "  <tbody>\n",
              "    <tr>\n",
              "      <th>0</th>\n",
              "      <td>C_04</td>\n",
              "      <td>$47,865.87</td>\n",
              "    </tr>\n",
              "    <tr>\n",
              "      <th>1</th>\n",
              "      <td>C_07</td>\n",
              "      <td>$48,582.94</td>\n",
              "    </tr>\n",
              "    <tr>\n",
              "      <th>2</th>\n",
              "      <td>C_05</td>\n",
              "      <td>$48,332.38</td>\n",
              "    </tr>\n",
              "    <tr>\n",
              "      <th>3</th>\n",
              "      <td>C_01</td>\n",
              "      <td>$47,869.25</td>\n",
              "    </tr>\n",
              "    <tr>\n",
              "      <th>4</th>\n",
              "      <td>C_03</td>\n",
              "      <td>$47,706.18</td>\n",
              "    </tr>\n",
              "    <tr>\n",
              "      <th>5</th>\n",
              "      <td>C_06</td>\n",
              "      <td>$47,592.42</td>\n",
              "    </tr>\n",
              "    <tr>\n",
              "      <th>6</th>\n",
              "      <td>C_02</td>\n",
              "      <td>$46,464.67</td>\n",
              "    </tr>\n",
              "  </tbody>\n",
              "</table>\n",
              "</div>"
            ],
            "text/plain": [
              "   city  avg(car_value)\n",
              "0  C_04      $47,865.87\n",
              "1  C_07      $48,582.94\n",
              "2  C_05      $48,332.38\n",
              "3  C_01      $47,869.25\n",
              "4  C_03      $47,706.18\n",
              "5  C_06      $47,592.42\n",
              "6  C_02      $46,464.67"
            ]
          },
          "metadata": {
            "tags": []
          },
          "execution_count": 129
        }
      ]
    },
    {
      "cell_type": "markdown",
      "metadata": {
        "id": "UXzTtP8QtnNK"
      },
      "source": [
        "# Executar aplicação no servidor Web"
      ]
    },
    {
      "cell_type": "code",
      "metadata": {
        "colab": {
          "base_uri": "https://localhost:8080/"
        },
        "id": "kfvGYue_asen",
        "outputId": "27947e3c-7636-4824-f435-d0379ccf3a7d"
      },
      "source": [
        "import nest_asyncio\r\n",
        "from pyngrok import ngrok\r\n",
        "import uvicorn\r\n",
        "\r\n",
        "ngrok_tunnel = ngrok.connect(8000)\r\n",
        "print('Public URL:', ngrok_tunnel.public_url)\r\n",
        "nest_asyncio.apply()\r\n",
        "uvicorn.run(app, port=8000)"
      ],
      "execution_count": 139,
      "outputs": [
        {
          "output_type": "stream",
          "text": [
            "t=2021-03-08T13:31:27+0000 lvl=warn msg=\"can't bind default web address, trying alternatives\" obj=web addr=127.0.0.1:4040\n"
          ],
          "name": "stderr"
        },
        {
          "output_type": "stream",
          "text": [
            "Public URL: http://0ef314080120.ngrok.io\n"
          ],
          "name": "stdout"
        },
        {
          "output_type": "stream",
          "text": [
            "INFO:     Started server process [57]\n",
            "INFO:     Waiting for application startup.\n",
            "INFO:     Application startup complete.\n",
            "INFO:     Uvicorn running on http://127.0.0.1:8000 (Press CTRL+C to quit)\n"
          ],
          "name": "stderr"
        },
        {
          "output_type": "stream",
          "text": [
            "INFO:     191.188.211.138:0 - \"GET / HTTP/1.1\" 200 OK\n",
            "INFO:     191.188.211.138:0 - \"GET /favicon.ico HTTP/1.1\" 404 Not Found\n",
            "   city  Valor Médio\n",
            "0  C_04   $47,865.87\n",
            "1  C_07   $48,582.94\n",
            "2  C_05   $48,332.38\n",
            "3  C_01   $47,869.25\n",
            "4  C_03   $47,706.18\n",
            "5  C_06   $47,592.42\n",
            "6  C_02   $46,464.67\n",
            "INFO:     191.188.211.138:0 - \"GET /valor-medio-todas-cidade HTTP/1.1\" 200 OK\n"
          ],
          "name": "stdout"
        },
        {
          "output_type": "stream",
          "text": [
            "INFO:     Shutting down\n",
            "INFO:     Waiting for application shutdown.\n",
            "INFO:     Application shutdown complete.\n",
            "INFO:     Finished server process [57]\n"
          ],
          "name": "stderr"
        }
      ]
    }
  ]
}