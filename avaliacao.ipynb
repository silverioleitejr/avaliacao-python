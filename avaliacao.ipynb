{
 "metadata": {
  "language_info": {
   "codemirror_mode": {
    "name": "ipython",
    "version": 3
   },
   "file_extension": ".py",
   "mimetype": "text/x-python",
   "name": "python",
   "nbconvert_exporter": "python",
   "pygments_lexer": "ipython3",
   "version": "3.8.5-final"
  },
  "orig_nbformat": 2,
  "kernelspec": {
   "name": "python3",
   "display_name": "Python 3.8.5 64-bit (conda)",
   "metadata": {
    "interpreter": {
     "hash": "02fcbb052e0075f63e1384af31a265db3885c7068fb2a7230ee960885a7b932a"
    }
   }
  }
 },
 "nbformat": 4,
 "nbformat_minor": 2,
 "cells": [
  {
   "cell_type": "code",
   "execution_count": 5,
   "metadata": {},
   "outputs": [],
   "source": [
    "# connectar Dataframe\n",
    "#Bibliotecas\n",
    "from pandas import pandas\n",
    "\n",
    "#definir variais globais \n",
    "import pandas as pd\n",
    "path = \"https://raw.githubusercontent.com/silverioleitejr/avaliacao-python/main/data/dataset.csv\"\n",
    "vendas_df = pd.read_csv(path)\n"
   ]
  },
  {
   "cell_type": "code",
   "execution_count": 7,
   "metadata": {},
   "outputs": [],
   "source": [
    "def isNaN(num):\n",
    "    return num != num\n"
   ]
  },
  {
   "cell_type": "code",
   "execution_count": 8,
   "metadata": {},
   "outputs": [],
   "source": [
    "# Esta função retorna um DataFrameGroupBy por Marca\n",
    "def agruparMediaMarca():\n",
    "\n",
    "  grouped_df = vendas_df.groupby(['car_make'])\n",
    "  mean_df = grouped_df.mean()\n",
    "\n",
    "  return mean_df\n",
    "\n"
   ]
  },
  {
   "cell_type": "code",
   "execution_count": 9,
   "metadata": {},
   "outputs": [
    {
     "output_type": "execute_result",
     "data": {
      "text/plain": [
       "                  id     car_year     car_value\n",
       "car_make                                       \n",
       "A         466.475248  2000.178218  46144.930693\n",
       "B         565.120879  1999.978022  50383.384615\n",
       "C         545.480392  2000.833333  48890.294118\n",
       "D         516.018182  2001.581818  50650.463636\n",
       "E         513.531915  1999.297872  49621.393617\n",
       "F         442.394495  1999.522936  46137.697248\n",
       "G         506.888889  2000.011111  46113.366667\n",
       "H         493.471154  1999.519231  46126.326923\n",
       "I         485.964286  1999.726190  45487.535714\n",
       "J         480.904348  2001.000000  47992.982609"
      ],
      "text/html": "<div>\n<style scoped>\n    .dataframe tbody tr th:only-of-type {\n        vertical-align: middle;\n    }\n\n    .dataframe tbody tr th {\n        vertical-align: top;\n    }\n\n    .dataframe thead th {\n        text-align: right;\n    }\n</style>\n<table border=\"1\" class=\"dataframe\">\n  <thead>\n    <tr style=\"text-align: right;\">\n      <th></th>\n      <th>id</th>\n      <th>car_year</th>\n      <th>car_value</th>\n    </tr>\n    <tr>\n      <th>car_make</th>\n      <th></th>\n      <th></th>\n      <th></th>\n    </tr>\n  </thead>\n  <tbody>\n    <tr>\n      <th>A</th>\n      <td>466.475248</td>\n      <td>2000.178218</td>\n      <td>46144.930693</td>\n    </tr>\n    <tr>\n      <th>B</th>\n      <td>565.120879</td>\n      <td>1999.978022</td>\n      <td>50383.384615</td>\n    </tr>\n    <tr>\n      <th>C</th>\n      <td>545.480392</td>\n      <td>2000.833333</td>\n      <td>48890.294118</td>\n    </tr>\n    <tr>\n      <th>D</th>\n      <td>516.018182</td>\n      <td>2001.581818</td>\n      <td>50650.463636</td>\n    </tr>\n    <tr>\n      <th>E</th>\n      <td>513.531915</td>\n      <td>1999.297872</td>\n      <td>49621.393617</td>\n    </tr>\n    <tr>\n      <th>F</th>\n      <td>442.394495</td>\n      <td>1999.522936</td>\n      <td>46137.697248</td>\n    </tr>\n    <tr>\n      <th>G</th>\n      <td>506.888889</td>\n      <td>2000.011111</td>\n      <td>46113.366667</td>\n    </tr>\n    <tr>\n      <th>H</th>\n      <td>493.471154</td>\n      <td>1999.519231</td>\n      <td>46126.326923</td>\n    </tr>\n    <tr>\n      <th>I</th>\n      <td>485.964286</td>\n      <td>1999.726190</td>\n      <td>45487.535714</td>\n    </tr>\n    <tr>\n      <th>J</th>\n      <td>480.904348</td>\n      <td>2001.000000</td>\n      <td>47992.982609</td>\n    </tr>\n  </tbody>\n</table>\n</div>"
     },
     "metadata": {},
     "execution_count": 9
    }
   ],
   "source": [
    " agruparMediaMarca()\n",
    " "
   ]
  },
  {
   "cell_type": "code",
   "execution_count": 10,
   "metadata": {},
   "outputs": [],
   "source": [
    "def calcularMedia( fabricante = ''):\n",
    "  agrupamento_df = agruparMediaMarca()\n",
    "  filtro_query = 'car_make == ' '\"' + fabricante + '\"'\n",
    "  filtro_df = agrupamento_df.query( filtro_query )\n",
    "\n",
    "  media = filtro_df['car_value']\n",
    "\n",
    "  return media\n"
   ]
  },
  {
   "cell_type": "code",
   "execution_count": 15,
   "metadata": {},
   "outputs": [],
   "source": [
    "def criarSparkDataFrame():\n",
    "  import pyspark\n",
    "  from pyspark.sql import SparkSession\n",
    "  import pandas as pd\n",
    "\n",
    "  # Criar sessão spark\n",
    "  spark = SparkSession.builder.getOrCreate()\n",
    "\n",
    "  # Ler o dataframe de vendas \n",
    "  spark_df = spark.createDataFrame(vendas_df)\n",
    "\n",
    "  # incluir o spark df no cataloga Spark\n",
    "  spark_df.createOrReplaceTempView('spark_df')\n",
    "\n"
   ]
  },
  {
   "cell_type": "code",
   "execution_count": null,
   "metadata": {},
   "outputs": [],
   "source": []
  }
 ]
}